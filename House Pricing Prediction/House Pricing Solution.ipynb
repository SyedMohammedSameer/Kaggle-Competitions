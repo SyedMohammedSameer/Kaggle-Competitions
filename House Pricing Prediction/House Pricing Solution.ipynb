{
 "cells": [
  {
   "cell_type": "code",
   "execution_count": 1,
   "id": "aded5802",
   "metadata": {
    "_cell_guid": "b1076dfc-b9ad-4769-8c92-a6c4dae69d19",
    "_uuid": "8f2839f25d086af736a60e9eeb907d3b93b6e0e5",
    "execution": {
     "iopub.execute_input": "2023-03-14T18:16:53.979466Z",
     "iopub.status.busy": "2023-03-14T18:16:53.978966Z",
     "iopub.status.idle": "2023-03-14T18:16:53.992735Z",
     "shell.execute_reply": "2023-03-14T18:16:53.991787Z"
    },
    "papermill": {
     "duration": 0.021674,
     "end_time": "2023-03-14T18:16:53.995617",
     "exception": false,
     "start_time": "2023-03-14T18:16:53.973943",
     "status": "completed"
    },
    "tags": []
   },
   "outputs": [
    {
     "name": "stdout",
     "output_type": "stream",
     "text": [
      "/kaggle/input/home-data-for-ml-course/sample_submission.csv\n",
      "/kaggle/input/home-data-for-ml-course/sample_submission.csv.gz\n",
      "/kaggle/input/home-data-for-ml-course/train.csv.gz\n",
      "/kaggle/input/home-data-for-ml-course/data_description.txt\n",
      "/kaggle/input/home-data-for-ml-course/test.csv.gz\n",
      "/kaggle/input/home-data-for-ml-course/train.csv\n",
      "/kaggle/input/home-data-for-ml-course/test.csv\n"
     ]
    }
   ],
   "source": [
    "# This Python 3 environment comes with many helpful analytics libraries installed\n",
    "# It is defined by the kaggle/python Docker image: https://github.com/kaggle/docker-python\n",
    "# For example, here's several helpful packages to load\n",
    "\n",
    "import numpy as np # linear algebra\n",
    "import pandas as pd # data processing, CSV file I/O (e.g. pd.read_csv)\n",
    "\n",
    "# Input data files are available in the read-only \"../input/\" directory\n",
    "# For example, running this (by clicking run or pressing Shift+Enter) will list all files under the input directory\n",
    "\n",
    "import os\n",
    "for dirname, _, filenames in os.walk('/kaggle/input'):\n",
    "    for filename in filenames:\n",
    "        print(os.path.join(dirname, filename))\n",
    "\n",
    "# You can write up to 20GB to the current directory (/kaggle/working/) that gets preserved as output when you create a version using \"Save & Run All\" \n",
    "# You can also write temporary files to /kaggle/temp/, but they won't be saved outside of the current session"
   ]
  },
  {
   "cell_type": "raw",
   "id": "a6bb3b1a",
   "metadata": {
    "papermill": {
     "duration": 0.001876,
     "end_time": "2023-03-14T18:16:53.999996",
     "exception": false,
     "start_time": "2023-03-14T18:16:53.998120",
     "status": "completed"
    },
    "tags": []
   },
   "source": []
  },
  {
   "cell_type": "code",
   "execution_count": 2,
   "id": "b19bb9f9",
   "metadata": {
    "execution": {
     "iopub.execute_input": "2023-03-14T18:16:54.006789Z",
     "iopub.status.busy": "2023-03-14T18:16:54.006062Z",
     "iopub.status.idle": "2023-03-14T18:16:59.101377Z",
     "shell.execute_reply": "2023-03-14T18:16:59.099891Z"
    },
    "papermill": {
     "duration": 5.101766,
     "end_time": "2023-03-14T18:16:59.103725",
     "exception": false,
     "start_time": "2023-03-14T18:16:54.001959",
     "status": "completed"
    },
    "tags": []
   },
   "outputs": [
    {
     "data": {
      "text/plain": [
       "26763.571329223174"
      ]
     },
     "execution_count": 2,
     "metadata": {},
     "output_type": "execute_result"
    }
   ],
   "source": [
    "# Import helpful libraries\n",
    "import pandas as pd\n",
    "from sklearn.ensemble import RandomForestRegressor, GradientBoostingRegressor\n",
    "from sklearn.metrics import mean_absolute_error\n",
    "from sklearn.metrics import mean_squared_error\n",
    "from sklearn.model_selection import train_test_split\n",
    "import numpy as np\n",
    "\n",
    "# Load the data, and separate the target\n",
    "iowa_file_path = '../input/home-data-for-ml-course/train.csv'\n",
    "home_data = pd.read_csv(iowa_file_path)\n",
    "y = home_data.SalePrice\n",
    "\n",
    "# Create X (After completing the exercise, you can return to modify this line!)\n",
    "#features = ['LotArea', 'YearBuilt', '1stFlrSF', '2ndFlrSF', 'FullBath', 'BedroomAbvGr', 'TotRmsAbvGrd']\n",
    "features=[\n",
    "    'MSSubClass',\n",
    "    'LotArea',\n",
    "    'OverallQual',\n",
    "    'OverallCond',\n",
    "    'YearBuilt',\n",
    "    'YearRemodAdd',\n",
    "    '1stFlrSF',\n",
    "    '2ndFlrSF',\n",
    "    'LowQualFinSF',\n",
    "    'GrLivArea',\n",
    "    'FullBath',\n",
    "    'HalfBath',\n",
    "    'BedroomAbvGr',\n",
    "    'KitchenAbvGr',\n",
    "    'TotRmsAbvGrd',\n",
    "    'Fireplaces',\n",
    "    'WoodDeckSF',\n",
    "    'OpenPorchSF',\n",
    "    'EnclosedPorch',\n",
    "    '3SsnPorch',\n",
    "    'ScreenPorch',\n",
    "    'PoolArea',\n",
    "    'MiscVal',\n",
    "    'MoSold',\n",
    "    'YrSold'\n",
    "         ]\n",
    "\n",
    "# Select columns corresponding to features, and preview the data\n",
    "X = home_data[features]\n",
    "X.head()\n",
    "\n",
    "# Split into validation and training data\n",
    "train_X, val_X, train_y, val_y = train_test_split(X, y, random_state=1)\n",
    "\n",
    "# Define a random forest model\n",
    "rf_model = RandomForestRegressor(random_state=1,n_estimators=500)\n",
    "rf_model.fit(train_X, train_y)\n",
    "rf_val_predictions = rf_model.predict(val_X)\n",
    "\n",
    "gbm_model = GradientBoostingRegressor(random_state=1,n_estimators=200)\n",
    "gbm_model.fit(train_X, train_y)\n",
    "gbm_val_predictions = gbm_model.predict(val_X)\n",
    "\n",
    "\n",
    "predictions=(rf_val_predictions + gbm_val_predictions)/2\n",
    "np.sqrt(mean_squared_error(rf_val_predictions, val_y))"
   ]
  },
  {
   "cell_type": "code",
   "execution_count": 3,
   "id": "1361f213",
   "metadata": {
    "execution": {
     "iopub.execute_input": "2023-03-14T18:16:59.111084Z",
     "iopub.status.busy": "2023-03-14T18:16:59.110424Z",
     "iopub.status.idle": "2023-03-14T18:17:08.026453Z",
     "shell.execute_reply": "2023-03-14T18:17:08.025395Z"
    },
    "papermill": {
     "duration": 8.922748,
     "end_time": "2023-03-14T18:17:08.029058",
     "exception": false,
     "start_time": "2023-03-14T18:16:59.106310",
     "status": "completed"
    },
    "tags": []
   },
   "outputs": [],
   "source": [
    "# To improve accuracy, create a new Random Forest model which you will train on all training data\n",
    "# Define a random forest model\n",
    "rf_model = RandomForestRegressor(random_state=1,n_estimators=500)\n",
    "rf_model.fit(train_X, train_y)\n",
    "rf_val_predictions = rf_model.predict(val_X)\n",
    "\n",
    "gbm_model = GradientBoostingRegressor(random_state=1,n_estimators=200)\n",
    "gbm_model.fit(train_X, train_y)\n",
    "gbm_val_predictions = gbm_model.predict(val_X)\n",
    "\n",
    "\n",
    "predictions=(rf_val_predictions + gbm_val_predictions)/2\n",
    "\n",
    "# fit rf_model_on_full_data on all data from the training data\n",
    "rf_model.fit(X,y)\n",
    "gbm_model.fit(X,y)\n",
    "\n",
    "\n",
    "# path to file you will use for predictions\n",
    "test_data_path = '../input/home-data-for-ml-course/test.csv'\n",
    "\n",
    "# read test data file using pandas\n",
    "test_data = pd.read_csv(test_data_path)\n",
    "test_data=test_data.fillna(-1)\n",
    "\n",
    "# create test_X which comes from test_data but includes only the columns you used for prediction.\n",
    "# The list of columns is stored in a variable called features\n",
    "test_X = test_data[features]\n",
    "\n",
    "# make predictions which we will submit. \n",
    "test_preds1 = rf_model.predict(test_X)\n",
    "test_preds2=rf_model.predict(test_X)\n",
    "\n",
    "test_preds=(test_preds1+test_preds2)"
   ]
  },
  {
   "cell_type": "code",
   "execution_count": 4,
   "id": "a58b7fb4",
   "metadata": {
    "execution": {
     "iopub.execute_input": "2023-03-14T18:17:08.035492Z",
     "iopub.status.busy": "2023-03-14T18:17:08.035074Z",
     "iopub.status.idle": "2023-03-14T18:17:08.047677Z",
     "shell.execute_reply": "2023-03-14T18:17:08.046665Z"
    },
    "papermill": {
     "duration": 0.01907,
     "end_time": "2023-03-14T18:17:08.050612",
     "exception": false,
     "start_time": "2023-03-14T18:17:08.031542",
     "status": "completed"
    },
    "tags": []
   },
   "outputs": [],
   "source": [
    "# Run the code to save predictions in the format used for competition scoring\n",
    "\n",
    "output = pd.DataFrame({'Id': test_data.Id,\n",
    "                       'SalePrice': test_preds})\n",
    "output.to_csv('submission.csv', index=False)"
   ]
  }
 ],
 "metadata": {
  "kernelspec": {
   "display_name": "Python 3",
   "language": "python",
   "name": "python3"
  },
  "language_info": {
   "codemirror_mode": {
    "name": "ipython",
    "version": 3
   },
   "file_extension": ".py",
   "mimetype": "text/x-python",
   "name": "python",
   "nbconvert_exporter": "python",
   "pygments_lexer": "ipython3",
   "version": "3.7.12"
  },
  "papermill": {
   "default_parameters": {},
   "duration": 23.726698,
   "end_time": "2023-03-14T18:17:08.773697",
   "environment_variables": {},
   "exception": null,
   "input_path": "__notebook__.ipynb",
   "output_path": "__notebook__.ipynb",
   "parameters": {},
   "start_time": "2023-03-14T18:16:45.046999",
   "version": "2.4.0"
  }
 },
 "nbformat": 4,
 "nbformat_minor": 5
}
